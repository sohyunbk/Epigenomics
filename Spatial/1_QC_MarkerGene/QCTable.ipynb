{
 "cells": [
  {
   "cell_type": "code",
   "execution_count": 20,
   "id": "59ef9938-a715-4dc5-acba-9acb80f95578",
   "metadata": {},
   "outputs": [],
   "source": [
    "## StatFunction\n",
    "def SpatialStat(adata):\n",
    "    # Extract the Meta table (adata.obs)\n",
    "    Meta = adata.obs\n",
    "    # Compute statistics for total counts (UMIs)\n",
    "    SpotsNumber = Meta.shape[0]\n",
    "    UMI_median = Meta['total_counts'].median()\n",
    "    UMI_min = Meta['total_counts'].min()\n",
    "    UMI_max = Meta['total_counts'].max()\n",
    "    \n",
    "    # Compute statistics for n_genes_by_counts\n",
    "    Gene_median = Meta['n_genes_by_counts'].median()\n",
    "    Gene_min = Meta['n_genes_by_counts'].min()\n",
    "    Gene_max = Meta['n_genes_by_counts'].max()\n",
    "    \n",
    "    # Print or return any intermediate values if needed\n",
    "    print(f\"Spots Number: {SpotsNumber}\")\n",
    "    print(f\"UMI - Median: {UMI_median}, Min: {UMI_min}, Max: {UMI_max}\")\n",
    "    print(f\"Gene - Median: {Gene_median}, Min: {Gene_min}, Max: {Gene_max}\")\n",
    "\n"
   ]
  },
  {
   "cell_type": "code",
   "execution_count": 26,
   "id": "6e52e223-66a7-466e-b222-308d9218e8d7",
   "metadata": {},
   "outputs": [
    {
     "name": "stdout",
     "output_type": "stream",
     "text": [
      "Spots Number: 751\n",
      "UMI - Median: 14017.0, Min: 216.0, Max: 84765.0\n",
      "Gene - Median: 6580.0, Min: 209, Max: 13658\n"
     ]
    }
   ],
   "source": [
    "adata = sc.read_h5ad('/Users/sohyun/Documents/2.SingleCellATAC/12.Spatial/2.h5adFiles/A619_B_adata_processed.h5ad')\n",
    "SpatialStat(adata)"
   ]
  },
  {
   "cell_type": "code",
   "execution_count": 28,
   "id": "d80b11a7-cc2c-4eb0-b80b-f0085b040b8b",
   "metadata": {},
   "outputs": [
    {
     "name": "stdout",
     "output_type": "stream",
     "text": [
      "Spots Number: 831\n",
      "UMI - Median: 16986.0, Min: 182.0, Max: 90456.0\n",
      "Gene - Median: 7103.0, Min: 175, Max: 13494\n"
     ]
    }
   ],
   "source": [
    "adata = sc.read_h5ad('/Users/sohyun/Documents/2.SingleCellATAC/12.Spatial/2.h5adFiles/A619_C_adata_processed.h5ad')\n",
    "SpatialStat(adata)"
   ]
  },
  {
   "cell_type": "code",
   "execution_count": 30,
   "id": "4f8bfe75-0485-431d-b46b-48836e9709e7",
   "metadata": {},
   "outputs": [
    {
     "name": "stdout",
     "output_type": "stream",
     "text": [
      "Spots Number: 753\n",
      "UMI - Median: 14119.0, Min: 232.0, Max: 102089.0\n",
      "Gene - Median: 6312.0, Min: 225, Max: 14309\n"
     ]
    }
   ],
   "source": [
    "# A619-D\n",
    "adata = sc.read_h5ad('/Users/sohyun/Documents/2.SingleCellATAC/12.Spatial/2.h5adFiles/A619_D_adata_processed.h5ad')\n",
    "SpatialStat(adata)"
   ]
  },
  {
   "cell_type": "code",
   "execution_count": 32,
   "id": "55edec47-d44f-474b-a320-278f06863c21",
   "metadata": {},
   "outputs": [
    {
     "name": "stdout",
     "output_type": "stream",
     "text": [
      "Spots Number: 507\n",
      "UMI - Median: 9105.0, Min: 798.0, Max: 36535.0\n",
      "Gene - Median: 5061.0, Min: 707, Max: 10968\n"
     ]
    }
   ],
   "source": [
    "adata = sc.read_h5ad('/Users/sohyun/Documents/2.SingleCellATAC/12.Spatial/2.h5adFiles/Bif3_A_adata_processed.h5ad')\n",
    "SpatialStat(adata)"
   ]
  },
  {
   "cell_type": "code",
   "execution_count": 34,
   "id": "8d218b9b-30a0-4abf-8646-8b767b7d1f28",
   "metadata": {},
   "outputs": [
    {
     "name": "stdout",
     "output_type": "stream",
     "text": [
      "Spots Number: 492\n",
      "UMI - Median: 6727.0, Min: 161.0, Max: 49730.0\n",
      "Gene - Median: 4046.0, Min: 156, Max: 11922\n"
     ]
    }
   ],
   "source": [
    "adata = sc.read_h5ad('/Users/sohyun/Documents/2.SingleCellATAC/12.Spatial/2.h5adFiles/Bif3_B_adata_processed.h5ad')\n",
    "SpatialStat(adata)"
   ]
  },
  {
   "cell_type": "code",
   "execution_count": 36,
   "id": "4da12326-0794-46ab-9eea-3b9e8f4ed00a",
   "metadata": {},
   "outputs": [
    {
     "name": "stdout",
     "output_type": "stream",
     "text": [
      "Spots Number: 1121\n",
      "UMI - Median: 18544.0, Min: 178.0, Max: 95671.0\n",
      "Gene - Median: 7767.0, Min: 173, Max: 13925\n"
     ]
    }
   ],
   "source": [
    "adata = sc.read_h5ad('/Users/sohyun/Documents/2.SingleCellATAC/12.Spatial/2.h5adFiles/Bif3_C_adata_processed.h5ad')\n",
    "SpatialStat(adata)"
   ]
  },
  {
   "cell_type": "code",
   "execution_count": 38,
   "id": "b94fb8d9-cee1-470e-bd3b-34ec8a76f042",
   "metadata": {},
   "outputs": [
    {
     "name": "stdout",
     "output_type": "stream",
     "text": [
      "Spots Number: 772\n",
      "UMI - Median: 11309.0, Min: 205.0, Max: 98327.0\n",
      "Gene - Median: 5913.0, Min: 194, Max: 14207\n"
     ]
    }
   ],
   "source": [
    "adata = sc.read_h5ad('/Users/sohyun/Documents/2.SingleCellATAC/12.Spatial/2.h5adFiles/Bif3_D_adata_processed.h5ad')\n",
    "SpatialStat(adata)"
   ]
  }
 ],
 "metadata": {
  "kernelspec": {
   "display_name": "Python 3 (ipykernel)",
   "language": "python",
   "name": "python3"
  },
  "language_info": {
   "codemirror_mode": {
    "name": "ipython",
    "version": 3
   },
   "file_extension": ".py",
   "mimetype": "text/x-python",
   "name": "python",
   "nbconvert_exporter": "python",
   "pygments_lexer": "ipython3",
   "version": "3.11.7"
  }
 },
 "nbformat": 4,
 "nbformat_minor": 5
}
